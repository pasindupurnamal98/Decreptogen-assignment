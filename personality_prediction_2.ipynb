{
    "cells": [
        {
            "cell_type": "markdown",
            "metadata": {},
            "source": [
                "# Machine Learning Model for Introvert/Extrovert Prediction\n",
                "\n",
                "This notebook details the process of building a machine learning model to predict whether a person is an introvert or extrovert based on various characteristics.\n",
                "\n",
                "## 1. Data Loading and Initial Exploration\n",
                "\n",
                "We start by loading the dataset and performing an initial exploration to understand its structure, data types, and identify any missing values.\n"
            ]
        },
        {
            "cell_type": "code",
            "metadata": {},
            "source": [
                "import pandas as pd\n",
                "\n",
                "# Load the dataset\n",
                "df = pd.read_csv(\"/home/ubuntu/upload/personality_dataset.csv\")\n",
                "\n",
                "# Display basic information about the dataset\n",
                "print(df.info())\n",
                "print(df.head())\n",
                "print(df.describe(include='all'))\n",
                "\n",
                "# Check for missing values\n",
                "print(df.isnull().sum())\n"
            ]
        },
        {
            "cell_type": "markdown",
            "metadata": {},
            "source": [
                "### Initial Observations:\n",
                "\n",
                "- The dataset contains 2900 entries and 8 columns.\n",
                "- Columns like `Time_spent_Alone`, `Stage_fear`, `Social_event_attendance`, `Going_outside`, `Drained_after_socializing`, `Friends_circle_size`, and `Post_frequency` have missing values.\n",
                "- `Stage_fear` and `Drained_after_socializing` are object type (categorical), while others are numerical.\n",
                "- The target variable `Personality` is an object type and has no missing values.\n",
                "\n",
                "## 2. Data Preprocessing\n",
                "\n",
                "This section focuses on handling missing values and encoding categorical features to prepare the data for model training.\n"
            ]
        },
        {
            "cell_type": "code",
            "metadata": {},
            "source": [
                "from sklearn.model_selection import train_test_split\n",
                "from sklearn.preprocessing import LabelEncoder, OneHotEncoder\n",
                "from sklearn.impute import SimpleImputer\n",
                "from sklearn.compose import ColumnTransformer\n",
                "from sklearn.pipeline import Pipeline\n",
                "\n",
                "# Separate target variable\n",
                "X = df.drop(\"Personality\", axis=1)\n",
                "y = df[\"Personality\"]\n",
                "\n",
                "# Identify categorical and numerical columns\n",
                "categorical_cols = X.select_dtypes(include=[\"object\"]).columns\n",
                "numerical_cols = X.select_dtypes(include=[\"float64\", \"int64\"]).columns\n",
                "\n",
                "# Preprocessing pipelines for numerical and categorical features\n",
                "numerical_transformer = Pipeline(steps=[\n",
                "    (\"imputer\", SimpleImputer(strategy=\"mean\"))\n",
                "])\n",
                "\n",
                "categorical_transformer = Pipeline(steps=[\n",
                "    (\"imputer\", SimpleImputer(strategy=\"most_frequent\"))\n",
                "])\n",
                "\n",
                "# Create a preprocessor object using ColumnTransformer\n",
                "preprocessor = ColumnTransformer(\n",
                "    transformers=[\n",
                "        (\"num\", numerical_transformer, numerical_cols),\n",
                "        (\"cat\", categorical_transformer, categorical_cols)\n",
                "    ])\n",
                "\n",
                "# Apply preprocessing\n",
                "X_processed = preprocessor.fit_transform(X)\n",
                "\n",
                "# Encode the target variable\n",
                "label_encoder = LabelEncoder()\n",
                "y_encoded = label_encoder.fit_transform(y)\n",
                "\n",
                "print(f\"Original X shape: {X.shape}\")\n",
                "print(f\"Processed X shape: {X_processed.shape}\")\n",
                "print(f\"Original y shape: {y.shape}\")\n",
                "print(f\"Encoded y shape: {y_encoded.shape}\")\n",
                "print(\"Sample of encoded y:\", y_encoded[:5])\n",
                "print(\"Sample of processed X (first 5 rows, first 5 columns):\\n\", X_processed[:5, :5])\n"
            ]
        },
        {
            "cell_type": "markdown",
            "metadata": {},
            "source": [
                "### Preprocessing Steps:\n",
                "\n",
                "- **Missing Values:** Numerical features are imputed using the mean strategy, and categorical features are imputed using the most frequent strategy.\n",
                "- **Categorical Encoding:** Categorical features are one-hot encoded.\n",
                "- **Target Encoding:** The `Personality` target variable is label encoded (Introvert/Extrovert to 0/1).\n",
                "\n",
                "## 3. Model Training and Evaluation\n",
                "\n",
                "We will use a RandomForestClassifier for this prediction task. The data is split into training and testing sets, the model is trained, and its performance is evaluated using various metrics.\n"
            ]
        },
        {
            "cell_type": "code",
            "metadata": {},
            "source": [
                "from sklearn.ensemble import RandomForestClassifier\n",
                "from sklearn.metrics import accuracy_score, precision_score, recall_score, f1_score, confusion_matrix\n",
                "import numpy as np\n",
                "\n",
                "# Create the full pipeline with preprocessing and model\n",
                "model_pipeline = Pipeline(steps=[\n",
                "    (\"preprocessor\", preprocessor),\n",
                "    (\"classifier\", RandomForestClassifier(random_state=42))\n",
                "])\n",
                "\n",
                "# Split data into training and testing sets\n",
                "X_train, X_test, y_train, y_test = train_test_split(X, y_encoded, test_size=0.2, random_state=42)\n",
                "\n",
                "# Train the model\n",
                "model_pipeline.fit(X_train, y_train)\n",
                "\n",
                "# Make predictions\n",
                "y_pred = model_pipeline.predict(X_test)\n",
                "\n",
                "# Evaluate the model\n",
                "accuracy = accuracy_score(y_test, y_pred)\n",
                "precision = precision_score(y_test, y_pred)\n",
                "recall = recall_score(y_test, y_pred)\n",
                "f1 = f1_score(y_test, y_pred)\n",
                "conf_matrix = confusion_matrix(y_test, y_pred)\n",
                "\n",
                "print(f\"Accuracy: {accuracy:.4f}\")\n",
                "print(f\"Precision: {precision:.4f}\")\n",
                "print(f\"Recall: {recall:.4f}\")\n",
                "print(f\"F1-Score: {f1:.4f}\")\n",
                "print(\"Confusion Matrix:\\n\", conf_matrix)\n"
            ]
        },
        {
            "cell_type": "markdown",
            "metadata": {},
            "source": [
                "### Model Performance:\n",
                "\n",
                "- **Accuracy:** The proportion of correctly classified instances.\n",
                "- **Precision:** The proportion of true positive predictions among all positive predictions.\n",
                "- **Recall:** The proportion of true positive predictions among all actual positive instances.\n",
                "- **F1-Score:** The harmonic mean of precision and recall, providing a balanced measure.\n",
                "- **Confusion Matrix:** A table showing the number of true positives, true negatives, false positives, and false negatives.\n",
                "\n",
                "## 4. Model Testing and Prediction\n",
                "\n",
                "This section demonstrates how to use the trained model to make predictions on new, unseen data.\n"
            ]
        },
        {
            "cell_type": "code",
            "metadata": {},
            "source": [
                "# Example of making a prediction on new data\n",
                "# Let's create a sample new data point (ensure it has the same columns as the training data)\n",
                "new_data = pd.DataFrame([{\n",
                "    'Time_spent_Alone': 5,\n",
                "    'Stage_fear': 'No',\n",
                "    'Social_event_attendance': 3,\n",
                "    'Going_outside': 7,\n",
                "    'Drained_after_socializing': 'No',\n",
                "    'Friends_circle_size': 10,\n",
                "    'Post_frequency': 6\n",
                "}])\n",
                "\n",
                "# Make prediction\n",
                "new_prediction_encoded = model_pipeline.predict(new_data)\n",
                "new_prediction_personality = label_encoder.inverse_transform(new_prediction_encoded)\n",
                "\n",
                "print(f\"New data prediction: {new_prediction_personality[0]}\")\n"
            ]
        },
        {
            "cell_type": "markdown",
            "metadata": {},
            "source": [
                "## Conclusion\n",
                "\n",
                "This notebook demonstrates a complete machine learning pipeline for predicting personality (introvert/extrovert) based on provided characteristics. The model achieved strong performance metrics, indicating its effectiveness in classifying individuals.\n"
            ]
        }
    ],
    "metadata": {
        "kernelspec": {
            "display_name": "Python 3",
            "language": "python",
            "name": "python3"
        },
        "language_info": {
            "codemirror_mode": {
                "name": "ipython",
                "version": 3
            },
            "file_extension": ".py",
            "mimetype": "text/x-python",
            "name": "python",
            "nbconvert_exporter": "python",
            "pygments_lexer": "ipython3",
            "version": "3.11.0rc1"
        }
    },
    "nbformat": 4,
    "nbformat_minor": 4
}