{
 "cells": [
  {
   "cell_type": "markdown",
   "id": "3e310fe6",
   "metadata": {},
   "source": [
    "## 🧪 Step 1: Load and Explore the Dataset"
   ]
  },
  {
   "cell_type": "code",
   "execution_count": 1,
   "id": "e4daa226",
   "metadata": {},
   "outputs": [
    {
     "name": "stdout",
     "output_type": "stream",
     "text": [
      "<class 'pandas.core.frame.DataFrame'>\n",
      "RangeIndex: 2900 entries, 0 to 2899\n",
      "Data columns (total 8 columns):\n",
      " #   Column                     Non-Null Count  Dtype  \n",
      "---  ------                     --------------  -----  \n",
      " 0   Time_spent_Alone           2837 non-null   float64\n",
      " 1   Stage_fear                 2827 non-null   object \n",
      " 2   Social_event_attendance    2838 non-null   float64\n",
      " 3   Going_outside              2834 non-null   float64\n",
      " 4   Drained_after_socializing  2848 non-null   object \n",
      " 5   Friends_circle_size        2823 non-null   float64\n",
      " 6   Post_frequency             2835 non-null   float64\n",
      " 7   Personality                2900 non-null   object \n",
      "dtypes: float64(5), object(3)\n",
      "memory usage: 181.4+ KB\n",
      "None\n",
      "   Time_spent_Alone Stage_fear  Social_event_attendance  Going_outside  \\\n",
      "0               4.0         No                      4.0            6.0   \n",
      "1               9.0        Yes                      0.0            0.0   \n",
      "2               9.0        Yes                      1.0            2.0   \n",
      "3               0.0         No                      6.0            7.0   \n",
      "4               3.0         No                      9.0            4.0   \n",
      "\n",
      "  Drained_after_socializing  Friends_circle_size  Post_frequency Personality  \n",
      "0                        No                 13.0             5.0   Extrovert  \n",
      "1                       Yes                  0.0             3.0   Introvert  \n",
      "2                       Yes                  5.0             2.0   Introvert  \n",
      "3                        No                 14.0             8.0   Extrovert  \n",
      "4                        No                  8.0             5.0   Extrovert  \n",
      "        Time_spent_Alone Stage_fear  Social_event_attendance  Going_outside  \\\n",
      "count        2837.000000       2827              2838.000000    2834.000000   \n",
      "unique               NaN          2                      NaN            NaN   \n",
      "top                  NaN         No                      NaN            NaN   \n",
      "freq                 NaN       1417                      NaN            NaN   \n",
      "mean            4.505816        NaN                 3.963354       3.000000   \n",
      "std             3.479192        NaN                 2.903827       2.247327   \n",
      "min             0.000000        NaN                 0.000000       0.000000   \n",
      "25%             2.000000        NaN                 2.000000       1.000000   \n",
      "50%             4.000000        NaN                 3.000000       3.000000   \n",
      "75%             8.000000        NaN                 6.000000       5.000000   \n",
      "max            11.000000        NaN                10.000000       7.000000   \n",
      "\n",
      "       Drained_after_socializing  Friends_circle_size  Post_frequency  \\\n",
      "count                       2848          2823.000000     2835.000000   \n",
      "unique                         2                  NaN             NaN   \n",
      "top                           No                  NaN             NaN   \n",
      "freq                        1441                  NaN             NaN   \n",
      "mean                         NaN             6.268863        3.564727   \n",
      "std                          NaN             4.289693        2.926582   \n",
      "min                          NaN             0.000000        0.000000   \n",
      "25%                          NaN             3.000000        1.000000   \n",
      "50%                          NaN             5.000000        3.000000   \n",
      "75%                          NaN            10.000000        6.000000   \n",
      "max                          NaN            15.000000       10.000000   \n",
      "\n",
      "       Personality  \n",
      "count         2900  \n",
      "unique           2  \n",
      "top      Extrovert  \n",
      "freq          1491  \n",
      "mean           NaN  \n",
      "std            NaN  \n",
      "min            NaN  \n",
      "25%            NaN  \n",
      "50%            NaN  \n",
      "75%            NaN  \n",
      "max            NaN  \n",
      "Time_spent_Alone             63\n",
      "Stage_fear                   73\n",
      "Social_event_attendance      62\n",
      "Going_outside                66\n",
      "Drained_after_socializing    52\n",
      "Friends_circle_size          77\n",
      "Post_frequency               65\n",
      "Personality                   0\n",
      "dtype: int64\n"
     ]
    }
   ],
   "source": [
    "import pandas as pd\n",
    "\n",
    "# Load the dataset\n",
    "df = pd.read_csv(\"data/personality_dataset.csv\")\n",
    "\n",
    "# Display basic information about the dataset\n",
    "print(df.info())\n",
    "print(df.head())\n",
    "print(df.describe(include='all'))\n",
    "\n",
    "# Check for missing values\n",
    "print(df.isnull().sum())"
   ]
  },
  {
   "cell_type": "code",
   "execution_count": 2,
   "id": "ca42710e",
   "metadata": {},
   "outputs": [
    {
     "name": "stderr",
     "output_type": "stream",
     "text": [
      "C:\\Users\\pcadmin\\AppData\\Local\\Temp\\ipykernel_31940\\1016951988.py:11: FutureWarning: \n",
      "\n",
      "Passing `palette` without assigning `hue` is deprecated and will be removed in v0.14.0. Assign the `x` variable to `hue` and set `legend=False` for the same effect.\n",
      "\n",
      "  sns.countplot(x='Personality', data=df[df['Personality'].isin(['Introvert', 'Extrovert'])], palette='coolwarm')\n"
     ]
    },
    {
     "data": {
      "image/png": "[encoded data removed]",
      "text/plain": [
       "<Figure size 600x400 with 1 Axes>"
      ]
     },
     "metadata": {},
     "output_type": "display_data"
    }
   ],
   "source": [
    "import pandas as pd\n",
    "import matplotlib.pyplot as plt\n",
    "import seaborn as sns\n",
    "\n",
    "# Load the dataset\n",
    "df = pd.read_csv(\"data/personality_dataset.csv\")\n",
    "\n",
    "# Filter only Introvert vs Extrovert\n",
    "if 'Personality' in df.columns:\n",
    "    plt.figure(figsize=(6, 4))\n",
    "    sns.countplot(x='Personality', data=df[df['Personality'].isin(['Introvert', 'Extrovert'])], palette='coolwarm')\n",
    "    plt.title(\"Introvert vs Extrovert Distribution\")\n",
    "    plt.xlabel(\"Personality Type\")\n",
    "    plt.ylabel(\"Count\")\n",
    "    plt.tight_layout()\n",
    "    plt.show()\n",
    "else:\n",
    "    print(\"Error: 'Personality' column not found.\")"
   ]
  },
  {
   "cell_type": "markdown",
   "id": "77e0b85e",
   "metadata": {},
   "source": [
    "### 🔍 Step 2.1: Target Separation & Feature Type Identification"
   ]
  },
  {
   "cell_type": "code",
   "execution_count": 2,
   "id": "82f98dc9",
   "metadata": {},
   "outputs": [
    {
     "name": "stdout",
     "output_type": "stream",
     "text": [
      "Categorical columns: ['Stage_fear', 'Drained_after_socializing']\n",
      "Numerical columns: ['Time_spent_Alone', 'Social_event_attendance', 'Going_outside', 'Friends_circle_size', 'Post_frequency']\n"
     ]
    }
   ],
   "source": [
    "from sklearn.model_selection import train_test_split\n",
    "from sklearn.preprocessing import LabelEncoder, OneHotEncoder\n",
    "from sklearn.impute import SimpleImputer\n",
    "from sklearn.compose import ColumnTransformer\n",
    "from sklearn.pipeline import Pipeline\n",
    "\n",
    "# Separate target and features\n",
    "X = df.drop(\"Personality\", axis=1)\n",
    "y = df[\"Personality\"]\n",
    "\n",
    "# Identify categorical and numerical columns\n",
    "categorical_cols = X.select_dtypes(include=[\"object\"]).columns\n",
    "numerical_cols = X.select_dtypes(include=[\"float64\", \"int64\"]).columns\n",
    "\n",
    "print(\"Categorical columns:\", list(categorical_cols))\n",
    "print(\"Numerical columns:\", list(numerical_cols))"
   ]
  },
  {
   "cell_type": "markdown",
   "id": "55575d95",
   "metadata": {},
   "source": [
    "### 🧼 Step 2.2: Preprocessing Pipelines"
   ]
  },
  {
   "cell_type": "code",
   "execution_count": 3,
   "id": "f3bf5ab4",
   "metadata": {},
   "outputs": [
    {
     "name": "stdout",
     "output_type": "stream",
     "text": [
      "✅ Numerical transformer pipeline created (Missing values → Mean)\n",
      "✅ Categorical transformer pipeline created (Missing values → Most frequent, One-Hot Encoding applied)\n"
     ]
    }
   ],
   "source": [
    "# Preprocessing pipelines for numerical and categorical features\n",
    "\n",
    "# Numerical pipeline: Impute missing values using the mean\n",
    "numerical_transformer = Pipeline(steps=[\n",
    "    (\"imputer\", SimpleImputer(strategy=\"mean\"))\n",
    "])\n",
    "print(\"✅ Numerical transformer pipeline created (Missing values → Mean)\")\n",
    "\n",
    "# Categorical pipeline: Impute using most frequent value, then One-Hot Encode\n",
    "categorical_transformer = Pipeline(steps=[\n",
    "    (\"imputer\", SimpleImputer(strategy=\"most_frequent\")),\n",
    "    (\"onehot\", OneHotEncoder(handle_unknown=\"ignore\"))\n",
    "])\n",
    "print(\"✅ Categorical transformer pipeline created (Missing values → Most frequent, One-Hot Encoding applied)\")"
   ]
  },
  {
   "cell_type": "markdown",
   "id": "05cfecda",
   "metadata": {},
   "source": [
    "### 🛠️ Step 2.3: Combine & Apply Preprocessing"
   ]
  },
  {
   "cell_type": "code",
   "execution_count": 4,
   "id": "6dd5b5d3",
   "metadata": {},
   "outputs": [
    {
     "name": "stdout",
     "output_type": "stream",
     "text": [
      "Original X shape: (2900, 7)\n",
      "Processed X shape: (2900, 9)\n"
     ]
    }
   ],
   "source": [
    "# Combine preprocessing using ColumnTransformer\n",
    "preprocessor = ColumnTransformer(\n",
    "    transformers=[\n",
    "        (\"num\", numerical_transformer, numerical_cols),\n",
    "        (\"cat\", categorical_transformer, categorical_cols)\n",
    "    ])\n",
    "\n",
    "# Apply transformation to features\n",
    "X_processed = preprocessor.fit_transform(X)\n",
    "\n",
    "print(f\"Original X shape: {X.shape}\")\n",
    "print(f\"Processed X shape: {X_processed.shape}\")"
   ]
  },
  {
   "cell_type": "markdown",
   "id": "1cf016e0",
   "metadata": {},
   "source": [
    "### 🎯 Step 2.4: Encoding Target Variable\n",
    "\n",
    "- Used `LabelEncoder` to convert string labels (e.g., \"Introvert\", \"Extrovert\") into numerical form.\n",
    "- This encoding is essential for training classifiers."
   ]
  },
  {
   "cell_type": "code",
   "execution_count": 5,
   "id": "f91d8c2a",
   "metadata": {},
   "outputs": [
    {
     "name": "stdout",
     "output_type": "stream",
     "text": [
      "Original y shape: (2900,)\n",
      "Encoded y shape: (2900,)\n",
      "Sample encoded labels: [0 1 1 0 0]\n"
     ]
    }
   ],
   "source": [
    "# Encode target labels\n",
    "label_encoder = LabelEncoder()\n",
    "y_encoded = label_encoder.fit_transform(y)\n",
    "\n",
    "print(f\"Original y shape: {y.shape}\")\n",
    "print(f\"Encoded y shape: {y_encoded.shape}\")\n",
    "print(\"Sample encoded labels:\", y_encoded[:5])"
   ]
  },
  {
   "cell_type": "code",
   "execution_count": 21,
   "id": "e403e2a9",
   "metadata": {},
   "outputs": [
    {
     "name": "stdout",
     "output_type": "stream",
     "text": [
      "Original y shape: (2900,)\n",
      "Encoded y shape: (2900,)\n",
      "Sample encoded labels: [0 1 1 0 0]\n",
      "\n",
      "==================================================\n",
      "🎯 LABEL ENCODER MAPPINGS:\n",
      "==================================================\n",
      "Classes found: ['Extrovert' 'Introvert']\n",
      "\n",
      "Label Mappings:\n",
      "  'Extrovert' → 0\n",
      "  'Introvert' → 1\n",
      "\n",
      "First 10 original labels: ['Extrovert', 'Introvert', 'Introvert', 'Extrovert', 'Extrovert', 'Extrovert', 'Extrovert', 'Extrovert', 'Introvert', 'Extrovert']\n",
      "First 10 encoded labels:  [0, 1, 1, 0, 0, 0, 0, 0, 1, 0]\n",
      "\n",
      "Encoded Label Distribution:\n",
      "  0 ('Extrovert'): 1491 samples\n",
      "  1 ('Introvert'): 1409 samples\n"
     ]
    }
   ],
   "source": [
    "# Encode target labels\n",
    "label_encoder = LabelEncoder()\n",
    "y_encoded = label_encoder.fit_transform(y)\n",
    "\n",
    "print(f\"Original y shape: {y.shape}\")\n",
    "print(f\"Encoded y shape: {y_encoded.shape}\")\n",
    "print(\"Sample encoded labels:\", y_encoded[:5])\n",
    "\n",
    "# 🔍 THIS IS WHAT YOU NEED - Print the label mappings\n",
    "print(\"\\n\" + \"=\"*50)\n",
    "print(\"🎯 LABEL ENCODER MAPPINGS:\")\n",
    "print(\"=\"*50)\n",
    "print(\"Classes found:\", label_encoder.classes_)\n",
    "print(\"\\nLabel Mappings:\")\n",
    "for i, class_name in enumerate(label_encoder.classes_):\n",
    "    print(f\"  '{class_name}' → {i}\")\n",
    "\n",
    "# Show some examples from your actual data\n",
    "print(f\"\\nFirst 10 original labels: {y[:10].tolist()}\")\n",
    "print(f\"First 10 encoded labels:  {y_encoded[:10].tolist()}\")\n",
    "\n",
    "# Count distribution\n",
    "unique, counts = np.unique(y_encoded, return_counts=True)\n",
    "print(f\"\\nEncoded Label Distribution:\")\n",
    "for label, count in zip(unique, counts):\n",
    "    original_label = label_encoder.classes_[label]\n",
    "    print(f\"  {label} ('{original_label}'): {count} samples\")"
   ]
  },
  {
   "cell_type": "markdown",
   "id": "3092635c",
   "metadata": {},
   "source": [
    "#####################"
   ]
  },
  {
   "cell_type": "markdown",
   "id": "b8ab336c",
   "metadata": {},
   "source": [
    "### 🛠️ Step 1: Import Libraries and Split Dataset\n",
    "\n",
    "We start by importing all required libraries and then split our dataset into training and test sets."
   ]
  },
  {
   "cell_type": "code",
   "execution_count": 6,
   "id": "b933b57f",
   "metadata": {},
   "outputs": [
    {
     "name": "stdout",
     "output_type": "stream",
     "text": [
      "Training set shape: (2320, 9)\n",
      "Test set shape: (580, 9)\n"
     ]
    }
   ],
   "source": [
    "from sklearn.model_selection import train_test_split, GridSearchCV, cross_val_score\n",
    "from sklearn.ensemble import RandomForestClassifier, GradientBoostingClassifier\n",
    "from sklearn.svm import SVC\n",
    "from sklearn.linear_model import LogisticRegression\n",
    "from sklearn.metrics import classification_report, accuracy_score, confusion_matrix, precision_score, recall_score, f1_score\n",
    "import numpy as np\n",
    "import pandas as pd\n",
    "import pickle\n",
    "import joblib\n",
    "\n",
    "# Split the data\n",
    "X_train, X_test, y_train, y_test = train_test_split(\n",
    "    X_processed, y_encoded, test_size=0.2, random_state=42, stratify=y_encoded\n",
    ")\n",
    "\n",
    "print(f\"Training set shape: {X_train.shape}\")\n",
    "print(f\"Test set shape: {X_test.shape}\")"
   ]
  },
  {
   "cell_type": "markdown",
   "id": "09a84326",
   "metadata": {},
   "source": [
    "### 🤖 Step 2: Define Models and Hyperparameter Grids\n",
    "\n",
    "We define multiple classifiers and their tuning parameters for `GridSearchCV`."
   ]
  },
  {
   "cell_type": "code",
   "execution_count": 7,
   "id": "3019f5aa",
   "metadata": {},
   "outputs": [
    {
     "name": "stdout",
     "output_type": "stream",
     "text": [
      "✅ Model & hyperparameter grids defined:\n",
      "  • Random Forest → 5 hyperparameter(s) to tune\n",
      "  • Gradient Boosting → 5 hyperparameter(s) to tune\n",
      "  • SVM → 3 hyperparameter(s) to tune\n",
      "  • Logistic Regression → 3 hyperparameter(s) to tune\n"
     ]
    }
   ],
   "source": [
    "# Define models and their hyperparameter grids\n",
    "models_and_params = {\n",
    "    'Random Forest': {\n",
    "        'model': RandomForestClassifier(random_state=42),\n",
    "        'params': {\n",
    "            'n_estimators': [100, 200, 300],\n",
    "            'max_depth': [10, 20, None],\n",
    "            'min_samples_split': [2, 5, 10],\n",
    "            'min_samples_leaf': [1, 2, 4],\n",
    "            'max_features': ['sqrt', 'log2']\n",
    "        }\n",
    "    },\n",
    "    'Gradient Boosting': {\n",
    "        'model': GradientBoostingClassifier(random_state=42),\n",
    "        'params': {\n",
    "            'n_estimators': [100, 200],\n",
    "            'learning_rate': [0.05, 0.1, 0.2],\n",
    "            'max_depth': [3, 5, 7],\n",
    "            'min_samples_split': [2, 5],\n",
    "            'min_samples_leaf': [1, 2]\n",
    "        }\n",
    "    },\n",
    "    'SVM': {\n",
    "        'model': SVC(random_state=42),\n",
    "        'params': {\n",
    "            'C': [0.1, 1, 10, 100],\n",
    "            'kernel': ['rbf', 'linear'],\n",
    "            'gamma': ['scale', 'auto', 0.001, 0.01]\n",
    "        }\n",
    "    },\n",
    "    'Logistic Regression': {\n",
    "        'model': LogisticRegression(random_state=42, max_iter=1000),\n",
    "        'params': {\n",
    "            'C': [0.01, 0.1, 1, 10, 100],\n",
    "            'penalty': ['l1', 'l2'],\n",
    "            'solver': ['liblinear', 'saga']\n",
    "        }\n",
    "    }\n",
    "}\n",
    "\n",
    "print(\"✅ Model & hyperparameter grids defined:\")\n",
    "for model_name in models_and_params:\n",
    "    param_count = len(models_and_params[model_name]['params'])\n",
    "    print(f\"  • {model_name} → {param_count} hyperparameter(s) to tune\")"
   ]
  },
  {
   "cell_type": "markdown",
   "id": "cf03f53a",
   "metadata": {},
   "source": [
    "### 🧪 Step 3: Train, Tune, and Evaluate All Models\n",
    "\n",
    "We tune and evaluate each model using `GridSearchCV`, storing all evaluations for comparison."
   ]
  },
  {
   "cell_type": "code",
   "execution_count": 8,
   "id": "ea7dd634",
   "metadata": {},
   "outputs": [
    {
     "name": "stderr",
     "output_type": "stream",
     "text": [
      "⏳ Training: Random Forest:   0%|          | 0/4 [00:00<?, ?it/s]"
     ]
    },
    {
     "name": "stdout",
     "output_type": "stream",
     "text": [
      "\n",
      "======================================================================\n",
      "🔧 TUNING MODEL: RANDOM FOREST\n",
      "======================================================================\n",
      "Fitting 5 folds for each of 162 candidates, totalling 810 fits\n"
     ]
    },
    {
     "name": "stderr",
     "output_type": "stream",
     "text": [
      "⏳ Training: Gradient Boosting:  25%|██▌       | 1/4 [02:16<06:49, 136.42s/it]"
     ]
    },
    {
     "name": "stdout",
     "output_type": "stream",
     "text": [
      "\n",
      "📊 Results for Random Forest:\n",
      "   ▸ Best CV Accuracy   : 0.9388\n",
      "   ▸ Train Accuracy     : 0.9427\n",
      "   ▸ Test Accuracy      : 0.9138\n",
      "   ▸ Precision (weighted): 0.9149\n",
      "   ▸ Recall (weighted)   : 0.9138\n",
      "   ▸ F1 Score (weighted) : 0.9138\n",
      "   ▸ Overfitting (ΔTrain-Test): 0.0289\n",
      "   ✅ Best Params: {'max_depth': 10, 'max_features': 'sqrt', 'min_samples_leaf': 1, 'min_samples_split': 2, 'n_estimators': 100}\n",
      "\n",
      "======================================================================\n",
      "🔧 TUNING MODEL: GRADIENT BOOSTING\n",
      "======================================================================\n",
      "Fitting 5 folds for each of 72 candidates, totalling 360 fits\n"
     ]
    },
    {
     "name": "stderr",
     "output_type": "stream",
     "text": [
      "⏳ Training: SVM:  50%|█████     | 2/4 [03:45<03:36, 108.48s/it]              "
     ]
    },
    {
     "name": "stdout",
     "output_type": "stream",
     "text": [
      "\n",
      "📊 Results for Gradient Boosting:\n",
      "   ▸ Best CV Accuracy   : 0.9384\n",
      "   ▸ Train Accuracy     : 0.9388\n",
      "   ▸ Test Accuracy      : 0.9172\n",
      "   ▸ Precision (weighted): 0.9183\n",
      "   ▸ Recall (weighted)   : 0.9172\n",
      "   ▸ F1 Score (weighted) : 0.9172\n",
      "   ▸ Overfitting (ΔTrain-Test): 0.0216\n",
      "   ✅ Best Params: {'learning_rate': 0.05, 'max_depth': 3, 'min_samples_leaf': 1, 'min_samples_split': 2, 'n_estimators': 100}\n",
      "\n",
      "======================================================================\n",
      "🔧 TUNING MODEL: SVM\n",
      "======================================================================\n",
      "Fitting 5 folds for each of 32 candidates, totalling 160 fits\n"
     ]
    },
    {
     "name": "stderr",
     "output_type": "stream",
     "text": [
      "⏳ Training: Logistic Regression:  75%|███████▌  | 3/4 [17:48<07:24, 444.16s/it]"
     ]
    },
    {
     "name": "stdout",
     "output_type": "stream",
     "text": [
      "\n",
      "📊 Results for SVM:\n",
      "   ▸ Best CV Accuracy   : 0.9388\n",
      "   ▸ Train Accuracy     : 0.9388\n",
      "   ▸ Test Accuracy      : 0.9172\n",
      "   ▸ Precision (weighted): 0.9183\n",
      "   ▸ Recall (weighted)   : 0.9172\n",
      "   ▸ F1 Score (weighted) : 0.9172\n",
      "   ▸ Overfitting (ΔTrain-Test): 0.0216\n",
      "   ✅ Best Params: {'C': 0.1, 'gamma': 'scale', 'kernel': 'rbf'}\n",
      "\n",
      "======================================================================\n",
      "🔧 TUNING MODEL: LOGISTIC REGRESSION\n",
      "======================================================================\n",
      "Fitting 5 folds for each of 20 candidates, totalling 100 fits\n"
     ]
    },
    {
     "name": "stderr",
     "output_type": "stream",
     "text": [
      "⏳ Training: Logistic Regression: 100%|██████████| 4/4 [17:50<00:00, 267.58s/it]"
     ]
    },
    {
     "name": "stdout",
     "output_type": "stream",
     "text": [
      "\n",
      "📊 Results for Logistic Regression:\n",
      "   ▸ Best CV Accuracy   : 0.9388\n",
      "   ▸ Train Accuracy     : 0.9388\n",
      "   ▸ Test Accuracy      : 0.9172\n",
      "   ▸ Precision (weighted): 0.9183\n",
      "   ▸ Recall (weighted)   : 0.9172\n",
      "   ▸ F1 Score (weighted) : 0.9172\n",
      "   ▸ Overfitting (ΔTrain-Test): 0.0216\n",
      "   ✅ Best Params: {'C': 0.01, 'penalty': 'l1', 'solver': 'liblinear'}\n"
     ]
    },
    {
     "name": "stderr",
     "output_type": "stream",
     "text": [
      "\n"
     ]
    }
   ],
   "source": [
    "from tqdm import tqdm\n",
    "\n",
    "# 🌟 Store detailed results\n",
    "detailed_results = {}\n",
    "accuracy_comparison = []\n",
    "\n",
    "# Prepare loop with progress bar\n",
    "models_iter = tqdm(models_and_params.items(), desc=\"🔄 Training Models\", leave=True)\n",
    "\n",
    "# 🚀 Train and evaluate each model\n",
    "for model_name, model_info in models_iter:\n",
    "    print(f\"\\n{'='*70}\")\n",
    "    print(f\"🔧 TUNING MODEL: {model_name.upper()}\")\n",
    "    print(f\"{'='*70}\")\n",
    "    \n",
    "    # Set the progress bar description to current model\n",
    "    models_iter.set_description(f\"⏳ Training: {model_name}\")\n",
    "    \n",
    "    grid_search = GridSearchCV(\n",
    "        estimator=model_info['model'],\n",
    "        param_grid=model_info['params'],\n",
    "        cv=5,\n",
    "        scoring='accuracy',\n",
    "        n_jobs=-1,\n",
    "        verbose=1\n",
    "    )\n",
    "    \n",
    "    # 🧠 Train the model\n",
    "    grid_search.fit(X_train, y_train)\n",
    "    \n",
    "    # ✅ Predict\n",
    "    best_model = grid_search.best_estimator_\n",
    "    y_train_pred = best_model.predict(X_train)\n",
    "    y_test_pred = best_model.predict(X_test)\n",
    "\n",
    "    # 📊 Compute metrics\n",
    "    train_accuracy = accuracy_score(y_train, y_train_pred)\n",
    "    test_accuracy = accuracy_score(y_test, y_test_pred)\n",
    "    cv_accuracy = grid_search.best_score_\n",
    "    test_precision = precision_score(y_test, y_test_pred, average='weighted')\n",
    "    test_recall = recall_score(y_test, y_test_pred, average='weighted')\n",
    "    test_f1 = f1_score(y_test, y_test_pred, average='weighted')\n",
    "\n",
    "    # 📦 Store detailed results for later\n",
    "    detailed_results[model_name] = {\n",
    "        'best_estimator': best_model,\n",
    "        'best_params': grid_search.best_params_,\n",
    "        'cv_accuracy': cv_accuracy,\n",
    "        'train_accuracy': train_accuracy,\n",
    "        'test_accuracy': test_accuracy,\n",
    "        'test_precision': test_precision,\n",
    "        'test_recall': test_recall,\n",
    "        'test_f1': test_f1,\n",
    "        'y_pred': y_test_pred,\n",
    "        'grid_search': grid_search\n",
    "    }\n",
    "\n",
    "    # 📝 Append to summary table\n",
    "    accuracy_comparison.append({\n",
    "        'Model': model_name,\n",
    "        'CV_Accuracy': cv_accuracy,\n",
    "        'Train_Accuracy': train_accuracy,\n",
    "        'Test_Accuracy': test_accuracy,\n",
    "        'Test_Precision': test_precision,\n",
    "        'Test_Recall': test_recall,\n",
    "        'Test_F1': test_f1,\n",
    "        'Overfitting': train_accuracy - test_accuracy\n",
    "    })\n",
    "\n",
    "    # 🖨️ Print Summary Per Model\n",
    "    print(f\"\\n📊 Results for {model_name}:\")\n",
    "    print(\"   ▸ Best CV Accuracy   :\", f\"{cv_accuracy:.4f}\")\n",
    "    print(\"   ▸ Train Accuracy     :\", f\"{train_accuracy:.4f}\")\n",
    "    print(\"   ▸ Test Accuracy      :\", f\"{test_accuracy:.4f}\")\n",
    "    print(\"   ▸ Precision (weighted):\", f\"{test_precision:.4f}\")\n",
    "    print(\"   ▸ Recall (weighted)   :\", f\"{test_recall:.4f}\")\n",
    "    print(\"   ▸ F1 Score (weighted) :\", f\"{test_f1:.4f}\")\n",
    "    print(\"   ▸ Overfitting (ΔTrain-Test):\", f\"{train_accuracy - test_accuracy:.4f}\")\n",
    "    print(\"   ✅ Best Params:\", grid_search.best_params_)"
   ]
  },
  {
   "cell_type": "markdown",
   "id": "9aa4b8bb",
   "metadata": {},
   "source": [
    "### 📊 Step 4: Compare and Rank Models\n",
    "\n",
    "We create a structured table to rank models based on their scores."
   ]
  },
  {
   "cell_type": "code",
   "execution_count": 9,
   "id": "b4c5588e",
   "metadata": {},
   "outputs": [
    {
     "name": "stdout",
     "output_type": "stream",
     "text": [
      "\n",
      "====================================================================================================\n",
      "COMPREHENSIVE MODEL COMPARISON\n",
      "====================================================================================================\n",
      "                 Model  CV_Accuracy  Train_Accuracy  Test_Accuracy  \\\n",
      "0        Random Forest       0.9388          0.9427         0.9138   \n",
      "1    Gradient Boosting       0.9384          0.9388         0.9172   \n",
      "2                  SVM       0.9388          0.9388         0.9172   \n",
      "3  Logistic Regression       0.9388          0.9388         0.9172   \n",
      "\n",
      "   Test_Precision  Test_Recall  Test_F1  Overfitting  \n",
      "0          0.9149       0.9138   0.9138       0.0289  \n",
      "1          0.9183       0.9172   0.9172       0.0216  \n",
      "2          0.9183       0.9172   0.9172       0.0216  \n",
      "3          0.9183       0.9172   0.9172       0.0216  \n"
     ]
    }
   ],
   "source": [
    "# Create DataFrame to compare models\n",
    "comparison_df = pd.DataFrame(accuracy_comparison).round(4)\n",
    "\n",
    "# Rank by various metrics\n",
    "print(f\"\\n{'='*100}\")\n",
    "print(\"COMPREHENSIVE MODEL COMPARISON\")\n",
    "print(f\"{'='*100}\")\n",
    "print(comparison_df)\n",
    "\n",
    "# Show best per metric\n",
    "best_cv_model = comparison_df.loc[comparison_df['CV_Accuracy'].idxmax(), 'Model']\n",
    "best_test_model = comparison_df.loc[comparison_df['Test_Accuracy'].idxmax(), 'Model']\n",
    "best_f1_model = comparison_df.loc[comparison_df['Test_F1'].idxmax(), 'Model']\n",
    "least_overfitting = comparison_df.loc[comparison_df['Overfitting'].idxmin(), 'Model']"
   ]
  },
  {
   "cell_type": "markdown",
   "id": "3070fae3",
   "metadata": {},
   "source": [
    "### 🏆 Step 5: Select Final Model Based on Test Accuracy\n",
    "\n",
    "We select the best performing model based on test accuracy and show all its metrics."
   ]
  },
  {
   "cell_type": "code",
   "execution_count": 10,
   "id": "58fffbdf",
   "metadata": {},
   "outputs": [
    {
     "name": "stdout",
     "output_type": "stream",
     "text": [
      "\n",
      "SELECTED MODEL: Gradient Boosting\n",
      "Test Accuracy: 0.9172\n",
      "CV Accuracy: 0.9384\n",
      "F1-Score: 0.9172\n"
     ]
    }
   ],
   "source": [
    "selected_model_name = best_test_model\n",
    "selected_model_results = detailed_results[selected_model_name]\n",
    "selected_model = selected_model_results['best_estimator']\n",
    "selected_params = selected_model_results['best_params']\n",
    "\n",
    "print(f\"\\nSELECTED MODEL: {selected_model_name}\")\n",
    "print(f\"Test Accuracy: {selected_model_results['test_accuracy']:.4f}\")\n",
    "print(f\"CV Accuracy: {selected_model_results['cv_accuracy']:.4f}\")\n",
    "print(f\"F1-Score: {selected_model_results['test_f1']:.4f}\")"
   ]
  },
  {
   "cell_type": "markdown",
   "id": "d584dc59",
   "metadata": {},
   "source": [
    "### 💾 Step 8: Save Models, Pipeline, Comparison Data, and Metadata"
   ]
  },
  {
   "cell_type": "code",
   "execution_count": null,
   "id": "f57bc021",
   "metadata": {},
   "outputs": [],
   "source": [
    "from sklearn.pipeline import Pipeline\n",
    "\n",
    "# Build complete pipeline\n",
    "complete_pipeline = Pipeline([\n",
    "    ('preprocessor', preprocessor),\n",
    "    ('classifier', selected_model)\n",
    "])\n",
    "complete_pipeline.fit(X, y_encoded)\n",
    "\n",
    "# Save models and metadata\n",
    "joblib.dump(complete_pipeline, 'best_personality_model_pipeline.pkl')\n",
    "joblib.dump(selected_model, 'best_personality_model.pkl')\n",
    "joblib.dump(preprocessor, 'preprocessor.pkl')\n",
    "joblib.dump(label_encoder, 'label_encoder.pkl')\n",
    "comparison_df.to_csv('model_comparison_results.csv', index=False)\n",
    "\n",
    "# Save full results\n",
    "with open('detailed_model_results.pkl', 'wb') as f:\n",
    "    pickle.dump(detailed_results, f)\n",
    "\n",
    "model_info = {\n",
    "    'selected_model_name': selected_model_name,\n",
    "    'selection_criteria': 'Highest Test Accuracy',\n",
    "    'model_comparison': comparison_df.to_dict('records'),\n",
    "    'best_params': selected_params,\n",
    "    'performance_metrics': {\n",
    "        'cv_accuracy': selected_model_results['cv_accuracy'],\n",
    "        'test_accuracy': selected_model_results['test_accuracy'],\n",
    "        'test_precision': selected_model_results['test_precision'],\n",
    "        'test_recall': selected_model_results['test_recall'],\n",
    "        'test_f1': selected_model_results['test_f1']\n",
    "    },\n",
    "    'feature_names': feature_names if 'feature_names' in locals() else None,\n",
    "    'target_classes': target_names.tolist()\n",
    "}\n",
    "\n",
    "with open('comprehensive_model_info.pkl', 'wb') as f:\n",
    "    pickle.dump(model_info, f)\n",
    "\n",
    "print(\"✅ All results and model artifacts have been saved.\")"
   ]
  },
  {
   "cell_type": "code",
   "execution_count": 15,
   "id": "944feb9f",
   "metadata": {},
   "outputs": [
    {
     "name": "stderr",
     "output_type": "stream",
     "text": [
      "C:\\Users\\pcadmin\\AppData\\Local\\Temp\\ipykernel_77124\\3381382311.py:28: UserWarning: Glyph 128202 (\\N{BAR CHART}) missing from font(s) Arial.\n",
      "  plt.tight_layout()\n",
      "C:\\Users\\pcadmin\\AppData\\Roaming\\Python\\Python311\\site-packages\\IPython\\core\\pylabtools.py:170: UserWarning: Glyph 128202 (\\N{BAR CHART}) missing from font(s) Arial.\n",
      "  fig.canvas.print_figure(bytes_io, **kw)\n"
     ]
    },
    {
     "data": {
      "image/png": "[encoded data removed]",
      "text/plain": [
       "<Figure size 600x600 with 2 Axes>"
      ]
     },
     "metadata": {},
     "output_type": "display_data"
    }
   ],
   "source": [
    "import matplotlib.pyplot as plt\n",
    "import seaborn as sns\n",
    "from sklearn.metrics import confusion_matrix\n",
    "\n",
    "# Predicted and True Labels\n",
    "y_pred = selected_model.predict(X_test)\n",
    "cm = confusion_matrix(y_test, y_pred)\n",
    "labels = ['Extrovert', 'Introvert']  # Customize label names as per your classes\n",
    "\n",
    "# Plot Confusion Matrix\n",
    "plt.figure(figsize=(6, 6))\n",
    "sns.set(font_scale=1.2)  # Control font size\n",
    "sns.heatmap(cm,\n",
    "            annot=True,\n",
    "            fmt='d',\n",
    "            cmap='Blues',\n",
    "            cbar=True,\n",
    "            xticklabels=labels,\n",
    "            yticklabels=labels,\n",
    "            square=True,\n",
    "            linewidths=0.5,\n",
    "            linecolor='lightgrey')\n",
    "\n",
    "# Customize axis and title\n",
    "plt.xlabel('Predicted Label', fontsize=12)\n",
    "plt.ylabel('True Label', fontsize=12)\n",
    "plt.title(f'📊 Confusion Matrix - {selected_model_name}', fontsize=14)\n",
    "plt.tight_layout()\n",
    "plt.show()"
   ]
  },
  {
   "cell_type": "code",
   "execution_count": 16,
   "id": "f2617b31",
   "metadata": {},
   "outputs": [
    {
     "data": {
      "image/png": "[encoded data removed]",
      "text/plain": [
       "<Figure size 600x500 with 1 Axes>"
      ]
     },
     "metadata": {},
     "output_type": "display_data"
    }
   ],
   "source": [
    "from sklearn.metrics import roc_curve, auc\n",
    "from sklearn.preprocessing import label_binarize\n",
    "\n",
    "if len(set(y_test)) == 2:\n",
    "    y_proba = selected_model.predict_proba(X_test)[:, 1]\n",
    "    fpr, tpr, _ = roc_curve(y_test, y_proba)\n",
    "    roc_auc = auc(fpr, tpr)\n",
    "\n",
    "    plt.figure(figsize=(6, 5))\n",
    "    plt.plot(fpr, tpr, color='darkorange', lw=2, label=f'ROC curve (AUC = {roc_auc:.2f})')\n",
    "    plt.plot([0, 1], [0, 1], color='navy', lw=2, linestyle='--')\n",
    "    plt.xlabel('False Positive Rate')\n",
    "    plt.ylabel('True Positive Rate')\n",
    "    plt.title(f'ROC Curve – {selected_model_name}')\n",
    "    plt.legend(loc=\"lower right\")\n",
    "    plt.grid(alpha=0.3)\n",
    "    plt.show()"
   ]
  },
  {
   "cell_type": "code",
   "execution_count": 18,
   "id": "28fac636",
   "metadata": {},
   "outputs": [
    {
     "name": "stdout",
     "output_type": "stream",
     "text": [
      "New data prediction: Extrovert\n"
     ]
    }
   ],
   "source": [
    "new_data = pd.DataFrame([{\n",
    "    'Time_spent_Alone': 5,\n",
    "    'Stage_fear': 'No',\n",
    "    'Social_event_attendance': 3,\n",
    "    'Going_outside': 7,\n",
    "    'Drained_after_socializing': 'No',\n",
    "    'Friends_circle_size': 10,\n",
    "    'Post_frequency': 6\n",
    "}])\n",
    "\n",
    "# Ensure new_data has the same preprocessing applied\n",
    "new_data_preprocessed = preprocessor.transform(new_data)\n",
    "\n",
    "# Make prediction\n",
    "new_prediction_encoded = best_model.predict(new_data_preprocessed)\n",
    "new_prediction_personality = label_encoder.inverse_transform(new_prediction_encoded)\n",
    "\n",
    "print(f\"New data prediction: {new_prediction_personality[0]}\")\n"
   ]
  },
  {
   "cell_type": "code",
   "execution_count": 20,
   "id": "bee894aa",
   "metadata": {},
   "outputs": [
    {
     "name": "stdout",
     "output_type": "stream",
     "text": [
      "✅ Predictions saved to: data/personality_dataset_with_predictions3.csv\n",
      "\n",
      "📈 Model Evaluation on Full Dataset\n",
      "----------------------------------------\n",
      "✅ Accuracy: 0.9345\n",
      "\n",
      "🔍 Classification Report:\n",
      "              precision    recall  f1-score   support\n",
      "\n",
      "   Extrovert       0.95      0.93      0.94      1491\n",
      "   Introvert       0.92      0.94      0.93      1409\n",
      "\n",
      "    accuracy                           0.93      2900\n",
      "   macro avg       0.93      0.93      0.93      2900\n",
      "weighted avg       0.93      0.93      0.93      2900\n",
      "\n",
      "\n",
      "🔢 Sample Predictions:\n",
      "  Personality  Predicted\n",
      "0   Extrovert  Extrovert\n",
      "1   Introvert  Introvert\n",
      "2   Introvert  Introvert\n",
      "3   Extrovert  Extrovert\n",
      "4   Extrovert  Extrovert\n"
     ]
    }
   ],
   "source": [
    "import pandas as pd\n",
    "from sklearn.metrics import accuracy_score, classification_report\n",
    "import joblib\n",
    "\n",
    "# 📂 Load saved pipeline & label encoder\n",
    "pipeline = joblib.load('best_personality_model_pipeline.pkl')\n",
    "label_encoder = joblib.load('label_encoder.pkl')  # Used to decode prediction outputs\n",
    "\n",
    "# 📄 Load raw dataset (same format used during training)\n",
    "df = pd.read_csv(\"data/personality_dataset.csv\")\n",
    "\n",
    "# 🎯 Separate features and target\n",
    "X = df.drop(columns=[\"Personality\"])\n",
    "y_actual = df[\"Personality\"]\n",
    "\n",
    "# 🔁 Encode actual target using label encoder\n",
    "y_encoded_actual = label_encoder.transform(y_actual)\n",
    "\n",
    "# ✅ Predict using full pipeline with preprocessing included\n",
    "y_pred_encoded = pipeline.predict(X)\n",
    "\n",
    "# 🔁 Decode predictions back to original \"Introvert\"/\"Extrovert\"\n",
    "y_pred = label_encoder.inverse_transform(y_pred_encoded)\n",
    "\n",
    "# ➕ Add predictions to the original DataFrame\n",
    "df[\"Predicted\"] = y_pred\n",
    "\n",
    "# 💾 Save to a new CSV\n",
    "output_path = \"data/personality_dataset_with_predictions3.csv\"\n",
    "df.to_csv(output_path, index=False)\n",
    "print(f\"✅ Predictions saved to: {output_path}\")\n",
    "\n",
    "# 📊 Evaluate accuracy & display classification report\n",
    "accuracy = accuracy_score(y_actual, y_pred)\n",
    "print(\"\\n📈 Model Evaluation on Full Dataset\")\n",
    "print(\"----------------------------------------\")\n",
    "print(f\"✅ Accuracy: {accuracy:.4f}\\n\")\n",
    "print(\"🔍 Classification Report:\")\n",
    "print(classification_report(y_actual, y_pred, target_names=label_encoder.classes_))\n",
    "\n",
    "# 🧾 Sample preview\n",
    "print(\"\\n🔢 Sample Predictions:\")\n",
    "print(df[['Personality', 'Predicted']].head())"
   ]
  },
  {
   "cell_type": "code",
   "execution_count": 22,
   "id": "24ed6874",
   "metadata": {},
   "outputs": [
    {
     "name": "stdout",
     "output_type": "stream",
     "text": [
      "✅ Predictions with confidence saved to: data/personality_dataset_with_predictions_conf.csv\n",
      "\n",
      "📈 Model Evaluation on Full Dataset\n",
      "----------------------------------------\n",
      "✅ Accuracy: 0.9345\n",
      "\n",
      "🔍 Classification Report:\n",
      "              precision    recall  f1-score   support\n",
      "\n",
      "   Extrovert       0.95      0.93      0.94      1491\n",
      "   Introvert       0.92      0.94      0.93      1409\n",
      "\n",
      "    accuracy                           0.93      2900\n",
      "   macro avg       0.93      0.93      0.93      2900\n",
      "weighted avg       0.93      0.93      0.93      2900\n",
      "\n",
      "\n",
      "🔢 Sample Predictions:\n",
      "  Personality  Predicted  Confidence\n",
      "0   Extrovert  Extrovert      0.9540\n",
      "1   Introvert  Introvert      0.9122\n",
      "2   Introvert  Introvert      0.9346\n",
      "3   Extrovert  Extrovert      0.7992\n",
      "4   Extrovert  Extrovert      0.9628\n"
     ]
    }
   ],
   "source": [
    "import pandas as pd\n",
    "from sklearn.metrics import accuracy_score, classification_report\n",
    "import joblib\n",
    "import numpy as np\n",
    "\n",
    "# 📂 Load saved pipeline & label encoder\n",
    "pipeline = joblib.load('best_personality_model_pipeline.pkl')\n",
    "label_encoder = joblib.load('label_encoder.pkl')  # Used to decode prediction outputs\n",
    "\n",
    "# 📄 Load raw dataset\n",
    "df = pd.read_csv(\"data/personality_dataset.csv\")\n",
    "\n",
    "# 🎯 Separate features and target\n",
    "X = df.drop(columns=[\"Personality\"])\n",
    "y_actual = df[\"Personality\"]\n",
    "\n",
    "# 🔁 Encode actual target\n",
    "y_encoded_actual = label_encoder.transform(y_actual)\n",
    "\n",
    "# ✅ Predict and get probabilities\n",
    "y_pred_encoded = pipeline.predict(X)\n",
    "y_pred_proba = pipeline.predict_proba(X)  # Returns array of shape [n_samples, n_classes]\n",
    "\n",
    "# 🔁 Decode predictions back to original labels\n",
    "y_pred = label_encoder.inverse_transform(y_pred_encoded)\n",
    "\n",
    "# 🧮 Compute confidence based on predicted class index for each row\n",
    "confidence_scores = [\n",
    "    y_pred_proba[i, y_pred_encoded[i]] for i in range(len(y_pred_encoded))\n",
    "]\n",
    "\n",
    "# ➕ Add predictions and confidence to DataFrame\n",
    "df[\"Predicted\"] = y_pred\n",
    "df[\"Confidence\"] = np.round(confidence_scores, 4)  # Rounded to 4 decimal places\n",
    "\n",
    "# 💾 Save results\n",
    "output_path = \"data/personality_dataset_with_predictions_conf.csv\"\n",
    "df.to_csv(output_path, index=False)\n",
    "print(f\"✅ Predictions with confidence saved to: {output_path}\")\n",
    "\n",
    "# 📊 Evaluate performance\n",
    "accuracy = accuracy_score(y_actual, y_pred)\n",
    "print(\"\\n📈 Model Evaluation on Full Dataset\")\n",
    "print(\"----------------------------------------\")\n",
    "print(f\"✅ Accuracy: {accuracy:.4f}\\n\")\n",
    "print(\"🔍 Classification Report:\")\n",
    "print(classification_report(y_actual, y_pred, target_names=label_encoder.classes_))\n",
    "\n",
    "# 🧾 Preview\n",
    "print(\"\\n🔢 Sample Predictions:\")\n",
    "print(df[['Personality', 'Predicted', 'Confidence']].head())"
   ]
  }
 ],
 "metadata": {
  "kernelspec": {
   "display_name": "Python 3",
   "language": "python",
   "name": "python3"
  },
  "language_info": {
   "codemirror_mode": {
    "name": "ipython",
    "version": 3
   },
   "file_extension": ".py",
   "mimetype": "text/x-python",
   "name": "python",
   "nbconvert_exporter": "python",
   "pygments_lexer": "ipython3",
   "version": "3.11.0"
  }
 },
 "nbformat": 4,
 "nbformat_minor": 5
}
